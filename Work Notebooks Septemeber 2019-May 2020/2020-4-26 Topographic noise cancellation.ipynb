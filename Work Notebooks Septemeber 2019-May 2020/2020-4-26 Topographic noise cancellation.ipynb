{
 "cells": [
  {
   "cell_type": "code",
   "execution_count": 1,
   "metadata": {},
   "outputs": [
    {
     "name": "stdout",
     "output_type": "stream",
     "text": [
      "Populating the interactive namespace from numpy and matplotlib\n"
     ]
    }
   ],
   "source": [
    "%pylab inline"
   ]
  },
  {
   "cell_type": "code",
   "execution_count": null,
   "metadata": {},
   "outputs": [],
   "source": [
    "#Use the calibration data to calculate the coefficients \n",
    "#   with Equations 2.5-2.7\n",
    "C_n, fftfreq = calibrate(geo_cal,z_cal)\n",
    "\n",
    "G_m = fft.fft(g_test) #Calculate the fourier transform of the measured geophone data\n",
    "omega = fft.fftfreq(len(g_test),1/10000) #find the corresponding frequencies\n",
    "#Interpolate the geophone frequency signal \n",
    "#   The harmonic calculation does not usually fall onto specific frequency bins,\n",
    "#   the interpolation estimates the coefficient value if it falls bewteen points\n",
    "G_m = scipy.interpolate.interp1d(omega,G_m, kind='linear',fill_value='extrapolate')\n",
    "#Use the coefficients and interpolated geophone signal to estimate Z_noise\n",
    "z_noise = np.zeros(len(omega),dtype='complex128') #initialize noise array\n",
    "for n in arange(C_n[:,0]):\n",
    "    #Sum the impact that each harmonic has on the signal (Equation 2.4)\n",
    "    z_noise += C_n[n](omega/n)*G_m(omega/n) \n",
    "\n",
    "#Find the signal by subtracting noise from measured data (Equation 2.8)\n",
    "z_sig = z_test - fft.ifft(z_noise)"
   ]
  }
 ],
 "metadata": {
  "kernelspec": {
   "display_name": "Python 3",
   "language": "python",
   "name": "python3"
  },
  "language_info": {
   "codemirror_mode": {
    "name": "ipython",
    "version": 3
   },
   "file_extension": ".py",
   "mimetype": "text/x-python",
   "name": "python",
   "nbconvert_exporter": "python",
   "pygments_lexer": "ipython3",
   "version": "3.7.4"
  }
 },
 "nbformat": 4,
 "nbformat_minor": 2
}
