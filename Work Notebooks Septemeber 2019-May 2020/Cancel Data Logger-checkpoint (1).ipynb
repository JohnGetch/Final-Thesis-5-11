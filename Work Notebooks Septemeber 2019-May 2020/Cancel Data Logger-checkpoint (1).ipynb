{
 "cells": [
  {
   "cell_type": "code",
   "execution_count": 42,
   "metadata": {},
   "outputs": [
    {
     "name": "stdout",
     "output_type": "stream",
     "text": [
      "Populating the interactive namespace from numpy and matplotlib\n"
     ]
    }
   ],
   "source": [
    "import matplotlib.pyplot as plt\n",
    "import stmpy\n",
    "import cancelv2 as cancel\n",
    "from collections import deque\n",
    "%pylab inline\n",
    "\n",
    "# scan parameters\n",
    "scan_speed = 1 # s/line\n",
    "scan_freq = 10000 # Hz\n",
    "image_width = 256 # pixels\n",
    "image_height = 256 # pixels\n",
    "scan_pixel = scan_speed * scan_freq / image_width\n",
    "\n",
    "# loading geophone data file\n",
    "file_name = \"-noise-data\"\n",
    "dd = 8\n",
    "mm = 10\n",
    "yyyy = 2018\n",
    "data_lim = 25000\n",
    "\n",
    "# variables to load data\n",
    "n = 0\n",
    "# (x, r) = divmod(scan_pixel*image_width*image_height, data_lim)\n",
    "data = deque([])\n",
    "\n",
    "# creating image\n",
    "x = -1\n",
    "y = 0\n",
    "output = zeros((image_width,image_height))\n",
    "# [[0 for x in range(image_width)] for y in range(image_height)]\n",
    "\n",
    "\n",
    "# calibrated Fourier transform\n",
    "# nc1 = cancel.Cancel(Data0.base,Data0.tip,1/1000, p=[10000,500,16])"
   ]
  },
  {
   "cell_type": "code",
   "execution_count": 43,
   "metadata": {},
   "outputs": [
    {
     "ename": "SyntaxError",
     "evalue": "can't assign to function call (<ipython-input-43-240ee0b64063>, line 9)",
     "output_type": "error",
     "traceback": [
      "\u001b[1;36m  File \u001b[1;32m\"<ipython-input-43-240ee0b64063>\"\u001b[1;36m, line \u001b[1;32m9\u001b[0m\n\u001b[1;33m    output([x, y]) = nc1.create_drive(tmp_data)\u001b[0m\n\u001b[1;37m    ^\u001b[0m\n\u001b[1;31mSyntaxError\u001b[0m\u001b[1;31m:\u001b[0m can't assign to function call\n"
     ]
    }
   ],
   "source": [
    "# calculate pixel noise\n",
    "while y < image_height:\n",
    "    if len(data) > scan_pixel:\n",
    "        tmp_data = []\n",
    "        for i in range(0,scan_pixel):\n",
    "            tmp_data[i] = data.popleft()\n",
    "        x += 1\n",
    "        if x < image_width:\n",
    "#             output([x,y]) = nc1.create_drive(tmp_data)\n",
    "            output([x,y]) = 1\n",
    "        else:\n",
    "            x %= image_width\n",
    "            y += 1\n",
    "#             output([x,y]) = nc1.create_drive(tmp_data)\n",
    "            output([x,y]) = 1\n",
    "    else:\n",
    "        n += 1\n",
    "        temp_data = stmpy.load(\"Test Files/Data Logger/\" + \\\n",
    "                               \"{0:0=4d}\".format(yyyy) + \"-\" + \"{0:0=2d}\".format(mm) + \"-\" + \"{0:0=2d}\".format(dd) + \\\n",
    "                               file_name + \"%(number)03d\" % {\"number\": n} + \".dat\", biasOffset = False)\n",
    "        data.extend(temp_data.channels['Input 3 (V)'].tolist())\n",
    "    "
   ]
  },
  {
   "cell_type": "code",
   "execution_count": 40,
   "metadata": {},
   "outputs": [
    {
     "data": {
      "text/plain": [
       "20000"
      ]
     },
     "execution_count": 40,
     "metadata": {},
     "output_type": "execute_result"
    }
   ],
   "source": [
    "# list(data)\n",
    "# len(data)\n",
    "# data"
   ]
  }
 ],
 "metadata": {
  "kernelspec": {
   "display_name": "Python 3",
   "language": "python",
   "name": "python3"
  },
  "language_info": {
   "codemirror_mode": {
    "name": "ipython",
    "version": 3
   },
   "file_extension": ".py",
   "mimetype": "text/x-python",
   "name": "python",
   "nbconvert_exporter": "python",
   "pygments_lexer": "ipython3",
   "version": "3.7.3"
  }
 },
 "nbformat": 4,
 "nbformat_minor": 2
}
