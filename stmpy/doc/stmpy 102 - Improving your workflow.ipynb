{
 "cells": [
  {
   "cell_type": "markdown",
   "metadata": {},
   "source": [
    "# stmpy 102 - Improving your workflow\n",
    "Welcome back to python!\n",
    "\n",
    "This tutorial aims to improve your workflow when analyzing data and equips you to contribute code to `stmpy`.  My goal is to enable a better team workflow environment, allowing easy collaboration on analysis projects and new features, by sharing some of the lessons that I've learned the hard way. To that end we'll cover: documenting and sharing your work, writing fast code and PEP 8 style guidelines, feature branching on github.  However, this won't just be a tutorial where I yack about the importance of clear doc stings (so important!)--instead, we'll work together through two projects that instill good and efficient coding practice, and one project that demonstrates how to collaborate on new code.  \n",
    "\n",
    "If you haven't already, you'll need to work through the [first tutorial](https://github.com/harrispirie/stmpy/blob/master/stmpy/doc/Tutorial_PYTHON-101.html), at least to the point where you have jupyter notebooks up and running with `stmpy` installed and ready to go!\n",
    "\n",
    "Once you've done that, go ahead and open a new jupyter notebook: let's get started!"
   ]
  },
  {
   "cell_type": "markdown",
   "metadata": {},
   "source": [
    "### Outline\n",
    "---\n",
    "This tutorial is split into two parts. The first part demonstrates an efficient way to analyse data that makes it easy to share results. The second part shows how to write new functions and commit them to `stmpy`. \n",
    "\n",
    "Part 1: Data analysis\n",
    "1. Why effective comminucation"
   ]
  },
  {
   "cell_type": "markdown",
   "metadata": {},
   "source": [
    "## Analysis Workflow\n",
    "<img src=\"Stmpy workflow.png\" alt=\"drawing\" width=\"70%\"/>"
   ]
  },
  {
   "cell_type": "markdown",
   "metadata": {},
   "source": [
    "##### Effective communication: the backbone of an efficient team\n",
    "At the start of this year I attended a lecture by Jean-luc Doumont on *Clear, accurate and concise writing*, expecting to pick up a few tips that would help with an upcoming writing task. Instead, Jean-luc described a set of principles that impact much of what we do as scientists: communicate.  As the emphasis of this tutorial is to cultivate a more efficient team envrionment, it seemed fitting to start with a few of Jean-luc's lessons: \n",
    "1. Focus on your audience: \n",
    "2. Maximize signal to noise: \n"
   ]
  },
  {
   "cell_type": "markdown",
   "metadata": {},
   "source": [
    "##### Efficient coding: \"fast code\", not \"code fast\""
   ]
  },
  {
   "cell_type": "markdown",
   "metadata": {},
   "source": []
  },
  {
   "cell_type": "code",
   "execution_count": 4,
   "metadata": {
    "ExecuteTime": {
     "end_time": "2018-07-10T16:38:20.656057Z",
     "start_time": "2018-07-10T16:38:20.650858Z"
    }
   },
   "outputs": [
    {
     "name": "stderr",
     "output_type": "stream",
     "text": [
      "UsageError: Cell magic `%%R` not found.\n"
     ]
    }
   ],
   "source": [
    "%%R\n"
   ]
  },
  {
   "cell_type": "markdown",
   "metadata": {},
   "source": [
    "## Collaborating on stmpy\n",
    "\n",
    "Frankly, `stmpy` source code is a complete mess.  I started the package as a place where I could easily store and access common tools for data analysis.  Fast forward 3 years, and the file `stmpy.tools` now contains 1800 lines. But it doesn't have to be so!"
   ]
  },
  {
   "cell_type": "markdown",
   "metadata": {},
   "source": [
    "##### PEP 8 coding practice"
   ]
  },
  {
   "cell_type": "markdown",
   "metadata": {},
   "source": [
    "##### Github workflow: Feature branching"
   ]
  },
  {
   "cell_type": "code",
   "execution_count": null,
   "metadata": {},
   "outputs": [],
   "source": []
  }
 ],
 "metadata": {
  "kernelspec": {
   "display_name": "Python 2",
   "language": "python",
   "name": "python2"
  },
  "language_info": {
   "codemirror_mode": {
    "name": "ipython",
    "version": 2
   },
   "file_extension": ".py",
   "mimetype": "text/x-python",
   "name": "python",
   "nbconvert_exporter": "python",
   "pygments_lexer": "ipython2",
   "version": "2.7.14"
  }
 },
 "nbformat": 4,
 "nbformat_minor": 2
}
