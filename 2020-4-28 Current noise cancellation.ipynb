{
 "cells": [
  {
   "cell_type": "code",
   "execution_count": 1,
   "metadata": {},
   "outputs": [
    {
     "name": "stdout",
     "output_type": "stream",
     "text": [
      "Populating the interactive namespace from numpy and matplotlib\n"
     ]
    }
   ],
   "source": [
    "%pylab inline"
   ]
  },
  {
   "cell_type": "code",
   "execution_count": null,
   "metadata": {},
   "outputs": [],
   "source": [
    "#Fit the Z spectroscopy data to find the kappa constant\n",
    "fit = polyfit(z_spec[:,0],log(abs(z_spec[:,1])),1)\n",
    "kappa = fit[0] #kappa represents the semi-logarithmic slope value of the\n",
    "               #  recorded current as the tip is withdrawn from the sample\n",
    "#Current noise is estimated using Equation 2.16\n",
    "cur_noise = exp(-kappa*(z_noise-mean(z_noise)))\n",
    "#The current is removed from the measured data through division\n",
    "#  *Dividing two exponents with the same base results in the \n",
    "#    exponents just being subtracted\n",
    "#  **This alos means that the noise is removed from the measured data\n",
    "#     independant of the initial current value in the measured data\n",
    "#  ***This is a particularly useful trait in spectroscopic cancellation\n",
    "#     where the initial current value changes with the sweeping voltage\n",
    "cur_sig = cur_m/cur_noise #Equation 2.17\n",
    "# *Equation 2.17 is also applied to cancel LIY data by estimating\n",
    "#    the amount of noise in LIY and dividing it by the measured lIY"
   ]
  },
  {
   "cell_type": "code",
   "execution_count": null,
   "metadata": {},
   "outputs": [],
   "source": [
    "\n",
    "def fit_cancel(array, n=2):\n",
    "    '''\n",
    "    **This function was modified from code written by Albert Chen\n",
    "    Remove drift with a n-degree polynomial function fitted to the data\n",
    "    \n",
    "    Inputs:\n",
    "        array - Required: 1D numpy array to be cancelled\n",
    "        n     - Optional: degree of polynomial used for fitting\n",
    "        \n",
    "    Returns:\n",
    "        Zero centered numpy array, same length as 'array'\n",
    "    '''\n",
    "    #Create a linearly seperated set of point to fit array with\n",
    "    t = np.linspace(0,len(array),len(array)) \n",
    "    #Fit array using the numpy polyfit function and implement\n",
    "    # the resuting coefficients into a polynomial object\n",
    "    fit = poly1d(np.polyfit(t,array,n))\n",
    "    #Calculate the corrective array using the fit object\n",
    "    corrective = fit(t)\n",
    "    #Return the corrected data\n",
    "    return array - corrective\n",
    "\n",
    "def avg_fft(data,n,o,b=5):\n",
    "    '''\n",
    "    The Fourier transform of the data, in entirety, is quite noisy.\n",
    "    This function segments the data into manageable pieces and averages\n",
    "      the Fourier transform of each segment together to reduce that noise. \n",
    "    This reduces incoherent signals and random flucuations in coherent ones.\n",
    "    \n",
    "    Inputs:\n",
    "        data - Required: 1D numpy array of data to be segmented\n",
    "        n    - Required: length of segment data is pieced into\n",
    "        o    - Required: length of overlap between segments \n",
    "        b    - Optional: Beta parameter used by the Kaiser function;\n",
    "                     the default = 5 makes it similar to a Hamming window\n",
    "        fs   - Optional: int stating sampling rate of data collection\n",
    "    \n",
    "    Returns:\n",
    "        seg  - fft of length n \n",
    "        freqs- frequencies the make up the fft\n",
    "    '''\n",
    "    #Initialize a 2D array with the number of rows being how many segments\n",
    "    #   can be created from data of length 'n' and columns of length 'n'\n",
    "    seg = np.zeros(((len(data)-o)//(n-o),n),dtype=np.complex)\n",
    "    temp = np.copy(data)\n",
    "    i = 0\n",
    "    #Parce through data, seperating the segments into different rows\n",
    "    #This does not utilize all the data, only up length divisible by n\n",
    "    #Break out of the while loop once only the surplus data remains\n",
    "    while len(temp) >= n:\n",
    "        #Remove any dc offset or 2nd degree polynomial drift\n",
    "        #  from the segmented data and save it to the designated row\n",
    "        seg[i,:] = fit_cancel(temp[:n])\n",
    "        i += 1 #iterate to the next row\n",
    "        temp = temp[n-o:] #Redefine the data set, removing the last \n",
    "                          #  segmented piece of data minus the overlap\n",
    "    #Calculate the Fourier transform of each row in the 2D array\n",
    "    seg = fft.fft(seg,axis=1)\n",
    "    #Average the Fourier transforms together\n",
    "    seg = mean(seg,axis=0)\n",
    "    #Calculate the corresponding frequencies \n",
    "    freqs = fft.fftfreq(len(seg),1/fs)\n",
    "    return seg,freqs\n",
    "\n",
    "def cal_alias(data,w_mod,n,o,b=5,fs=10000):\n",
    "    '''\n",
    "    Calibrate the transfer function needed to remove spectroscopic \n",
    "      aliasing from current and LIY data. This scheme is applied using \n",
    "      data collected while the system is in steady state and is applied\n",
    "      in parallel to the vector cancellation scheme. It also is only\n",
    "      needed for vector cancellation when the 'Exact Propogation' method\n",
    "      is used (G-Z-I-LIY). When the 'Direct Propogation' method is used\n",
    "      (G-I or G-LIY) aliasing is accounted for, though not 'properly'.\n",
    "      \n",
    "    Inputs:\n",
    "        data  - Required: 1D array containing the current or LIY calibration data\n",
    "        w_mod - Required: the frequency the voltage bias was modulated at\n",
    "        n     - Required: length of segment data is pieced into\n",
    "        o     - Required: length of overlap between segments \n",
    "        b     - Optional: Beta parameter used by the Kaiser function;\n",
    "                     the default = 5 makes it similar to a Hamming window\n",
    "        fs    - Optional: int stating sampling rate of data collection\n",
    "    \n",
    "    Returns:\n",
    "        A     - Interpolated object representing the attenuation and phase shift \n",
    "                by frequencies shifted due to the modulation of the voltage bias\n",
    "        freqs - The frequencies by which the transfer function A was calibrated\n",
    "    '''\n",
    "    #Initialize the array as a complex set of numbers \n",
    "    #   so it saves any phase information as well as magnitude\n",
    "    A = np.zeros(len(n),dtype='complex128')\n",
    "    #Calculate the Fourier transform of the data and clean\n",
    "    #  it up with some averaging\n",
    "    fft_dat,freqs = avg_fft(data,n,o,b=b)\n",
    "    w_alias = int(2*w_mod/freqs[1]) #indicates the range of the aliasing effect\n",
    "    #Iterate through positive frequencies up to 2*w_mod and calculate\n",
    "    #  the response that the frequencies about w_mod have to detected frequencies\n",
    "    #  less than w_mod. *Implementation of Equation 2.13\n",
    "    for i,frq in enumerate(freqs[:w_alias]):\n",
    "        A[i] = fft_dat[absolute(i-w_alias)]/fft_dat[i]\n",
    "    #Interpolate the transfer function so that frequencies called between\n",
    "    #  bins can be estimated \n",
    "    A = scipy.interpolate.interp1d(freqs,A,kind='linear',fill_value='extrapolate')\n",
    "    \n",
    "    return A,freqs\n",
    "\n",
    "#Calibrate a transfer function between the vibration frequency peaks and\n",
    "#   the corresponding aliased peaks\n",
    "A,__ = cal_alias(cur_cal,1000,200000,50000,b=5,fs=10000)\n",
    "#Take the Fourier transform of the measured current data\n",
    "fft_cur_m = fft.fft(cur_test)\n",
    "#Calculate the corresponding frequencies\n",
    "freqs = fft.fftfreq(len(cur_test),1/10000) \n",
    "w_alias = int(2*w_mod/freqs[1]) #indicates the range of the aliasing effect\n",
    "#Initialize the array for the aliased noise\n",
    "cur_alias = np.zeros(len(cur_test),dtype='complex128')\n",
    "#Iterate up to 2*w_mod to estimate the amount of noise that is the result \n",
    "#   of the aliasing effect *Implementation of Equation 2.14\n",
    "for i in arange(w_alias):\n",
    "    cur_alias[i] = A(absolute(freqs[w_alias-i]))*fft_cur_m[absolute(w_alias-i)]\n",
    "#Ensure that the positive and negative frequencies of the aliased noise are \n",
    "#   complex conjugates *Following the conditions of Equation 2.14 \n",
    "cur_alias[int(len(cur_alias)/2):] = np.flip(\n",
    "    conj(cur_alias[:int(len(cur_alias)/2)]))\n",
    "#Move the aliased noise back into the time domain *Equation 2.15\n",
    "cur_alias = fft.ifft(cur_alias)\n",
    "    \n",
    "    \n",
    "fft_c = fft.fft(liy_cal[int(200*fs):int(201*fs)])\n",
    "frq_c = np.fft.fftfreq(len(fft_c),1/10000)\n",
    "print(np.where(frq_c==w_mod))\n",
    "\n",
    "# print(frq_c[1],freqs[1])\n",
    "\n",
    "for i,frq in enumerate(freqs[:int(len(seg_c)/2)]):\n",
    "    A[i] = seg_c[absolute(i-1000)]/seg_c[i]\n",
    "A = scipy.interpolate.interp1d(freqs,A,kind='linear',fill_value='extrapolate')\n",
    "# A[int(len(seg_c)/2):] = np.flip(conj(A[:int(len(seg_c)/2)]))\n",
    "c_alias = np.zeros(len(seg_c),dtype='complex128')\n",
    "for i in arange(int(2*w_mod)):\n",
    "    c_alias[i] = A(absolute(frq_c[1000]-frq_c[i]))*fft_c[absolute(1000-i)]\n",
    "c_alias[int(len(seg_c)/2):] = np.flip(conj(c_alias[:int(len(seg_c)/2)]))"
   ]
  },
  {
   "cell_type": "code",
   "execution_count": 4,
   "metadata": {},
   "outputs": [
    {
     "name": "stdout",
     "output_type": "stream",
     "text": [
      "(1+0j)\n"
     ]
    }
   ],
   "source": [
    "A = np.zeros(20,dtype='complex128')\n"
   ]
  },
  {
   "cell_type": "code",
   "execution_count": 15,
   "metadata": {},
   "outputs": [
    {
     "name": "stdout",
     "output_type": "stream",
     "text": [
      "(2, 120000)\n"
     ]
    },
    {
     "data": {
      "text/plain": [
       "(0, 100)"
      ]
     },
     "execution_count": 15,
     "metadata": {},
     "output_type": "execute_result"
    },
    {
     "data": {
      "image/png": "[encoded data removed]",
      "text/plain": [
       "<Figure size 432x288 with 1 Axes>"
      ]
     },
     "metadata": {
      "needs_background": "light"
     },
     "output_type": "display_data"
    }
   ],
   "source": [
    "t= linspace(0,12,120000)\n",
    "x = np.zeros((2,len(t)))\n",
    "x[0,:] = sin(10*2*pi*t)\n",
    "x[1,:] = sin(20*2*pi*t)\n",
    "fft_x = fft.fft(x,axis=1)\n",
    "freq = fft.fftfreq(len(x[0,:]),1/10000)\n",
    "plot(freq,absolute(fft_x[0,:]))\n",
    "plot(freq,absolute(fft_x[1,:]))\n",
    "print(shape(fft_x))\n",
    "xlim(0,100)"
   ]
  },
  {
   "cell_type": "code",
   "execution_count": 19,
   "metadata": {},
   "outputs": [
    {
     "name": "stdout",
     "output_type": "stream",
     "text": [
      "833.3333333333333\n",
      "2000.0\n"
     ]
    }
   ],
   "source": [
    "print(freq[10000])\n",
    "print(freq[int(2*1000/freq[1])])"
   ]
  },
  {
   "cell_type": "code",
   "execution_count": null,
   "metadata": {},
   "outputs": [],
   "source": []
  }
 ],
 "metadata": {
  "kernelspec": {
   "display_name": "Python 3",
   "language": "python",
   "name": "python3"
  },
  "language_info": {
   "codemirror_mode": {
    "name": "ipython",
    "version": 3
   },
   "file_extension": ".py",
   "mimetype": "text/x-python",
   "name": "python",
   "nbconvert_exporter": "python",
   "pygments_lexer": "ipython3",
   "version": "3.7.4"
  }
 },
 "nbformat": 4,
 "nbformat_minor": 2
}
